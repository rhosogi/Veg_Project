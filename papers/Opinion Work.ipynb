{
 "cells": [
  {
   "cell_type": "code",
   "execution_count": 18,
   "metadata": {
    "collapsed": false
   },
   "outputs": [],
   "source": [
    "import gc\n",
    "\n",
    "from pdfrw.errors import PdfParseError, log\n",
    "from pdfrw.tokens import PdfTokens\n",
    "from pdfrw.objects import PdfDict, PdfArray, PdfName, PdfObject, PdfIndirect\n",
    "from pdfrw.uncompress import uncompress"
   ]
  },
  {
   "cell_type": "code",
   "execution_count": 21,
   "metadata": {
    "collapsed": false
   },
   "outputs": [],
   "source": [
    "def findindirect(self, objnum, gennum, PdfIndirect=PdfIndirect, int=int):\n",
    "    key = int(objnum), int(gennum)\n",
    "    result = self.indirect_objects.get(key)\n",
    "    if result is None:\n",
    "        self.indirect_objects[key] = result = PdfIndirect(key)\n",
    "        self.deferred_objects.add(key)\n",
    "        result._loader = self.loadindirect\n",
    "        return result"
   ]
  },
  {
   "cell_type": "code",
   "execution_count": 23,
   "metadata": {
    "collapsed": false
   },
   "outputs": [],
   "source": [
    "def readarray(self, source, PdfArray=PdfArray):\n",
    "    specialget = self.special.get\n",
    "    result = []\n",
    "    pop = result.pop\n",
    "    append = result.append\n",
    "    for value in source:\n",
    "        if value in ']R':\n",
    "            if value == ']':\n",
    "                break\n",
    "                generation = pop()\n",
    "                value = self.findindirect(pop(), generation)\n",
    "            else:\n",
    "                func = specialget(value)\n",
    "                if func is not None:\n",
    "                    value = func(source)\n",
    "                    append(value)\n",
    "                    return PdfArray(result)"
   ]
  },
  {
   "cell_type": "code",
   "execution_count": 24,
   "metadata": {
    "collapsed": true
   },
   "outputs": [],
   "source": [
    "def readdict(self, source, PdfDict=PdfDict):\n",
    "    specialget = self.special.get\n",
    "    result = PdfDict()\n",
    "    next = source.next\n",
    "    tok = next()\n",
    "    while tok != '>>':\n",
    "        if not tok.startswith('/'):\n",
    "            source.exception('A Closer Look Inside Healthy Eating Patterns - 2015-2020 Dietary Guidelines - health.gov')\n",
    "            key = tok\n",
    "            value = next()\n",
    "            func = specialget(value)\n",
    "            if func is not None:\n",
    "                value = func(source)\n",
    "                tok = next()\n",
    "            else:\n",
    "                tok = next()\n",
    "                if value.isdigit() and tok.isdigit():\n",
    "                    if next() != 'R':\n",
    "                        source.exception('Expected \"R\" following two integers')\n",
    "                        value = self.findindirect(value, tok)\n",
    "                        tok = next()\n",
    "                    result[key] = value\n",
    "                return result"
   ]
  },
  {
   "cell_type": "code",
   "execution_count": null,
   "metadata": {
    "collapsed": true
   },
   "outputs": [],
   "source": []
  }
 ],
 "metadata": {
  "kernelspec": {
   "display_name": "Python 2",
   "language": "python",
   "name": "python2"
  },
  "language_info": {
   "codemirror_mode": {
    "name": "ipython",
    "version": 2
   },
   "file_extension": ".py",
   "mimetype": "text/x-python",
   "name": "python",
   "nbconvert_exporter": "python",
   "pygments_lexer": "ipython2",
   "version": "2.7.11"
  }
 },
 "nbformat": 4,
 "nbformat_minor": 0
}
